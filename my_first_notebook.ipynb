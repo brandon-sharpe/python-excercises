{
 "cells": [
  {
   "cell_type": "markdown",
   "id": "d303b719",
   "metadata": {},
   "source": [
    "# My First Notebook\n",
    "\n",
    "\n",
    "Create a notebook and name it my_first_notebook. Test out the jupyter notebook environment:\n",
    "\n",
    "execute at least 3 Python cells, and make some notes that describe 3 shortcuts for jupyter notebooks."
   ]
  },
  {
   "cell_type": "code",
   "execution_count": null,
   "id": "a3f7b987",
   "metadata": {},
   "outputs": [],
   "source": [
    "print(\"Hello, World!\")"
   ]
  },
  {
   "cell_type": "code",
   "execution_count": 6,
   "id": "8b84f2b3",
   "metadata": {},
   "outputs": [
    {
     "data": {
      "text/plain": [
       "3750"
      ]
     },
     "execution_count": 6,
     "metadata": {},
     "output_type": "execute_result"
    }
   ],
   "source": [
    "6*5**4"
   ]
  },
  {
   "cell_type": "code",
   "execution_count": 10,
   "id": "b8878520",
   "metadata": {},
   "outputs": [
    {
     "name": "stdout",
     "output_type": "stream",
     "text": [
      "Here are some shortcuts!\n"
     ]
    }
   ],
   "source": [
    "print(\"Here are some shortcuts!\")"
   ]
  },
  {
   "cell_type": "markdown",
   "id": "6f6114eb",
   "metadata": {},
   "source": [
    "### cmd+enter = Run current cell\n"
   ]
  },
  {
   "cell_type": "markdown",
   "id": "523f908f",
   "metadata": {},
   "source": [
    "### Y = code"
   ]
  },
  {
   "cell_type": "markdown",
   "id": "430468f9",
   "metadata": {},
   "source": [
    "### M = markdown"
   ]
  },
  {
   "cell_type": "code",
   "execution_count": 3,
   "id": "ece094e2",
   "metadata": {},
   "outputs": [
    {
     "name": "stdout",
     "output_type": "stream",
     "text": [
      "Please enter an odd number between one and fifty >> 34\n",
      "Please enter an odd number between one and fifty >> 34\n"
     ]
    }
   ],
   "source": [
    "skip_this=int(input(\"Please enter an odd number between one and fifty >> \"))\n",
    "if type(skip_this) == int and skip_this % 2 != 0 and skip_this > 1 and skip_this < 50: \n",
    "    print(\"The number you wish to skip is \", skip_this)\n",
    "else: \n",
    "    skip_this=int(input(\"Please enter an odd number between one and fifty >> \"))\n",
    "\n",
    "\n"
   ]
  },
  {
   "cell_type": "code",
   "execution_count": null,
   "id": "d97375f0",
   "metadata": {},
   "outputs": [],
   "source": [
    "skip_this=int(input(\"Please enter an odd number between 1 and 50 >> \"))\n",
    "while type(skip_this) != int or skip_this % 2 == 0 or skip_this < 1 or skip_this > 50: \n",
    "    print(\"The input provided is not meet the criteria.\")\n",
    "    skip_this=int(input(\"Please enter an odd number between one and fifty >> \"))\n",
    "    \n",
    "print(\"The number you wish to skip is\", skip_this)\n",
    "\n",
    "for i in range (1,51):\n",
    "    if i % 2 != 0:\n",
    "        if i == skip_this:\n",
    "            print(\"Skipping\", i)\n",
    "            continue\n",
    "        print(\"Here is an odd number: \", i)\n",
    "\n"
   ]
  },
  {
   "cell_type": "code",
   "execution_count": null,
   "id": "af5c44e4",
   "metadata": {},
   "outputs": [],
   "source": [
    "pos_num=int(input(\" Input a positive number >>\"))\n",
    "\n",
    "while type(pos_num) != int or pos_num <= 0:\n",
    "    print(\"This does not meet the criteria\")\n",
    "    pos_num=int(input(\" Input a positive number >>\"))\n",
    "\n",
    "for i in range(0,pos_num):\n",
    "    i+=1\n",
    "    count \n",
    "    \n",
    "    print(i)"
   ]
  },
  {
   "cell_type": "code",
   "execution_count": 58,
   "id": "46f565c1",
   "metadata": {},
   "outputs": [
    {
     "name": "stdout",
     "output_type": "stream",
     "text": [
      "__bra__ndon\n"
     ]
    }
   ],
   "source": [
    "\n",
    "def normalize_name(string):\n",
    "    return ''.join(ch for ch in string.lower().strip().replace(\" \", \"_\").strip() if ch in \"abcdefghijklmnopqrstuvxyz_0123456789\")\n",
    "\n",
    "\n",
    "print(normalize_name(\"    %  BrA  ndon   \"))"
   ]
  },
  {
   "cell_type": "code",
   "execution_count": 62,
   "id": "131535f9",
   "metadata": {},
   "outputs": [
    {
     "name": "stdout",
     "output_type": "stream",
     "text": [
      "[ 1  3  6 10]\n"
     ]
    }
   ],
   "source": [
    "import numpy\n",
    "def cumulative_sum(list_of_nums):\n",
    "    return numpy.cumsum(list_of_nums)\n",
    "\n",
    "print(cumulative_sum([1,2,3,4]))\n",
    "    "
   ]
  },
  {
   "cell_type": "code",
   "execution_count": 2,
   "id": "c497c37d",
   "metadata": {},
   "outputs": [
    {
     "ename": "FileNotFoundError",
     "evalue": "[Errno 2] No such file or directory: 'profiles.json'",
     "output_type": "error",
     "traceback": [
      "\u001b[0;31m---------------------------------------------------------------------------\u001b[0m",
      "\u001b[0;31mFileNotFoundError\u001b[0m                         Traceback (most recent call last)",
      "\u001b[0;32m<ipython-input-2-6db543224d49>\u001b[0m in \u001b[0;36m<module>\u001b[0;34m\u001b[0m\n\u001b[1;32m      1\u001b[0m \u001b[0;32mimport\u001b[0m \u001b[0mjson\u001b[0m\u001b[0;34m\u001b[0m\u001b[0;34m\u001b[0m\u001b[0m\n\u001b[1;32m      2\u001b[0m \u001b[0;34m\u001b[0m\u001b[0m\n\u001b[0;32m----> 3\u001b[0;31m \u001b[0mjson\u001b[0m\u001b[0;34m.\u001b[0m\u001b[0mload\u001b[0m\u001b[0;34m(\u001b[0m\u001b[0mopen\u001b[0m\u001b[0;34m(\u001b[0m\u001b[0;34m'profiles.json'\u001b[0m\u001b[0;34m)\u001b[0m\u001b[0;34m)\u001b[0m\u001b[0;34m\u001b[0m\u001b[0;34m\u001b[0m\u001b[0m\n\u001b[0m\u001b[1;32m      4\u001b[0m \u001b[0;34m\u001b[0m\u001b[0m\n",
      "\u001b[0;31mFileNotFoundError\u001b[0m: [Errno 2] No such file or directory: 'profiles.json'"
     ]
    }
   ],
   "source": [
    "import json\n",
    "\n",
    "json.load(open('profiles.json'))\n",
    "          "
   ]
  },
  {
   "cell_type": "code",
   "execution_count": 5,
   "id": "6274bb8c",
   "metadata": {},
   "outputs": [
    {
     "name": "stdout",
     "output_type": "stream",
     "text": [
      "19\n"
     ]
    }
   ],
   "source": [
    "import json\n",
    "\n",
    "profiles = json.load(open('profiles.json'))\n",
    "\n",
    "print(len(profiles))"
   ]
  },
  {
   "cell_type": "code",
   "execution_count": null,
   "id": "4b330471",
   "metadata": {},
   "outputs": [],
   "source": []
  }
 ],
 "metadata": {
  "kernelspec": {
   "display_name": "Python 3",
   "language": "python",
   "name": "python3"
  },
  "language_info": {
   "codemirror_mode": {
    "name": "ipython",
    "version": 3
   },
   "file_extension": ".py",
   "mimetype": "text/x-python",
   "name": "python",
   "nbconvert_exporter": "python",
   "pygments_lexer": "ipython3",
   "version": "3.8.8"
  }
 },
 "nbformat": 4,
 "nbformat_minor": 5
}
