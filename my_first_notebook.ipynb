{
 "cells": [
  {
   "cell_type": "markdown",
   "id": "d303b719",
   "metadata": {},
   "source": [
    "# My First Notebook\n",
    "\n",
    "\n",
    "Create a notebook and name it my_first_notebook. Test out the jupyter notebook environment:\n",
    "\n",
    "execute at least 3 Python cells, and make some notes that describe 3 shortcuts for jupyter notebooks."
   ]
  },
  {
   "cell_type": "code",
   "execution_count": 1,
   "id": "a3f7b987",
   "metadata": {},
   "outputs": [
    {
     "name": "stdout",
     "output_type": "stream",
     "text": [
      "Hello, World!\n"
     ]
    }
   ],
   "source": [
    "print(\"Hello, World!\")"
   ]
  },
  {
   "cell_type": "code",
   "execution_count": 6,
   "id": "8b84f2b3",
   "metadata": {},
   "outputs": [
    {
     "data": {
      "text/plain": [
       "3750"
      ]
     },
     "execution_count": 6,
     "metadata": {},
     "output_type": "execute_result"
    }
   ],
   "source": [
    "6*5**4"
   ]
  },
  {
   "cell_type": "code",
   "execution_count": 10,
   "id": "b8878520",
   "metadata": {},
   "outputs": [
    {
     "name": "stdout",
     "output_type": "stream",
     "text": [
      "Here are some shortcuts!\n"
     ]
    }
   ],
   "source": [
    "print(\"Here are some shortcuts!\")"
   ]
  },
  {
   "cell_type": "markdown",
   "id": "6f6114eb",
   "metadata": {},
   "source": [
    "### cmd+enter = Run current cell\n"
   ]
  },
  {
   "cell_type": "markdown",
   "id": "523f908f",
   "metadata": {},
   "source": [
    "### Y = code"
   ]
  },
  {
   "cell_type": "markdown",
   "id": "430468f9",
   "metadata": {},
   "source": [
    "### M = markdown"
   ]
  },
  {
   "cell_type": "code",
   "execution_count": null,
   "id": "f560850b",
   "metadata": {},
   "outputs": [],
   "source": []
  }
 ],
 "metadata": {
  "kernelspec": {
   "display_name": "Python 3",
   "language": "python",
   "name": "python3"
  },
  "language_info": {
   "codemirror_mode": {
    "name": "ipython",
    "version": 3
   },
   "file_extension": ".py",
   "mimetype": "text/x-python",
   "name": "python",
   "nbconvert_exporter": "python",
   "pygments_lexer": "ipython3",
   "version": "3.8.8"
  }
 },
 "nbformat": 4,
 "nbformat_minor": 5
}
